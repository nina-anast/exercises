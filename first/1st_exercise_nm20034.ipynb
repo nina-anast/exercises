{
  "nbformat": 4,
  "nbformat_minor": 0,
  "metadata": {
    "colab": {
      "provenance": []
    },
    "kernelspec": {
      "name": "python3",
      "display_name": "Python 3"
    },
    "language_info": {
      "name": "python"
    }
  },
  "cells": [
    {
      "cell_type": "markdown",
      "source": [
        "**1η Εργασία Μαθήματος: \\\\\n",
        "\"Εισαγωγή στον Προγραμματισμό (Python)\"** \\\\\n",
        " \\\\\n",
        "Στην παρούσα εργασία θα παραθέσουμε τους κώδικες που διδάχθηκαν στα πρώτα μαθήματα."
      ],
      "metadata": {
        "id": "FhkLXUdqkn2S"
      }
    },
    {
      "cell_type": "markdown",
      "source": [
        "1. Δεχόμαστε 2 ορίσματα από τον χρήστη και δίνουμε το άθροισμά τους"
      ],
      "metadata": {
        "id": "WwJPxCSalXXH"
      }
    },
    {
      "cell_type": "code",
      "source": [
        "num1 = int(input('Give the first num: '))\n",
        "num2 = int(input('Give the second num: '))\n",
        "total = num1 + num2\n",
        "print('The total of num1 and num2 is: ', total)"
      ],
      "metadata": {
        "colab": {
          "base_uri": "https://localhost:8080/"
        },
        "id": "Pb5JUmn5ljGb",
        "outputId": "c923ee45-a8a6-43ad-fe6a-5486542283d5"
      },
      "execution_count": 1,
      "outputs": [
        {
          "output_type": "stream",
          "name": "stdout",
          "text": [
            "Give the first num: 5\n",
            "Give the second num: 9\n",
            "The total of num1 and num2 is:  14\n"
          ]
        }
      ]
    },
    {
      "cell_type": "markdown",
      "source": [
        "2. Ο χρήστης ορίζει ποιά είναι η ποσότητα της πορτοκαλάδας και της λεμονάδας αντίστοιχα. Στην συνέχεια επιστρέφει τις τιμές που έδωσε ο χρήστης και τέλος χρησιμοποιεί μια τρίτη μεταβλητή *num3* για να αντιστρέψει τις δύο τιμές και να επιστρέψει τα ανάποδα αποτελέσματα."
      ],
      "metadata": {
        "id": "V4eRbbO1l6-h"
      }
    },
    {
      "cell_type": "code",
      "source": [
        "num1 = int(input('Ποσότητα Πορτοκαλάδας: '))\n",
        "num2 = int(input('Ποσότητα Λεμονάδας: '))\n",
        "print('Πορτοκαλάδα = ', num1)\n",
        "print('Λεμονάδα = ', num2)\n",
        "num3 = num1\n",
        "num1 = num2\n",
        "num2 = num3\n",
        "print('Πορτοκαλάδα = ', num1)\n",
        "print('Λεμονάδα = ', num2)"
      ],
      "metadata": {
        "colab": {
          "base_uri": "https://localhost:8080/"
        },
        "id": "6aX17Kj0mCek",
        "outputId": "92c81b56-4f73-495d-e01d-320d29021579"
      },
      "execution_count": 2,
      "outputs": [
        {
          "output_type": "stream",
          "name": "stdout",
          "text": [
            "Ποσότητα Πορτοκαλάδας: 5\n",
            "Ποσότητα Λεμονάδας: 7\n",
            "Πορτοκαλάδα =  5\n",
            "Λεμονάδα =  7\n",
            "Πορτοκαλάδα =  7\n",
            "Λεμονάδα =  5\n"
          ]
        }
      ]
    },
    {
      "cell_type": "markdown",
      "source": [
        "3. Ο χρήστης δηλώνει την ηλικία του και τους παλμούς του σε κατάσταση ηρεμίας και το πρόγραμμα επιστρέφει τους επιτρεπτούς παλμούς που μπορεί να αποκτήσει καθώς ασκείται."
      ],
      "metadata": {
        "id": "63byidQDnlOt"
      }
    },
    {
      "cell_type": "code",
      "source": [
        "age = int(input(\"Enter your age: \"))\n",
        "rhb = int(input(\"Enter your resting heart rate: \"))\n",
        "heart_beat = 0.7 * (220 - age) + 0.3 * rhb\n",
        "print(\"Your allowable exercise heart rate is\", heart_beat, \"beats per minute\")"
      ],
      "metadata": {
        "colab": {
          "base_uri": "https://localhost:8080/"
        },
        "id": "lFo2UYb1nVdR",
        "outputId": "8dcffee2-7de2-4e6b-9200-381f230ad7f1"
      },
      "execution_count": 3,
      "outputs": [
        {
          "output_type": "stream",
          "name": "stdout",
          "text": [
            "Enter your age: 21\n",
            "Enter your resting heart rate: 80\n",
            "Your allowable exercise heart rate is 163.29999999999998 beats per minute\n"
          ]
        }
      ]
    },
    {
      "cell_type": "markdown",
      "source": [
        "4. Δίνεται η θερμοκρασία σε βαθμούς Κελσίου και επιστρέφεται σε Φαρεναιτ"
      ],
      "metadata": {
        "id": "Q1-oTHSFoCxv"
      }
    },
    {
      "cell_type": "code",
      "source": [
        "celsius = float(input(\"Enter temperature in celcius: \"))\n",
        "fahrenheit = (celsius * 9/5) + 32\n",
        "print(\"{:.3f} degrees Celsius is equal to {:.3f} degrees Fahrenheit\".format(celsius, fahrenheit))"
      ],
      "metadata": {
        "colab": {
          "base_uri": "https://localhost:8080/"
        },
        "id": "mEnzADcOoD--",
        "outputId": "80c22152-7f11-4e0a-dde5-37da1c4a1f52"
      },
      "execution_count": 4,
      "outputs": [
        {
          "output_type": "stream",
          "name": "stdout",
          "text": [
            "Enter temperature in celcius: 40\n",
            "40.000 degrees Celsius is equal to 104.000 degrees Fahrenheit\n"
          ]
        }
      ]
    },
    {
      "cell_type": "markdown",
      "source": [
        "5. Zητά από το χρήστη μια την τελική τιμή ενός προϊόντος και θα δίνει ως έξοδο την τιμή του προϊόντος χωρίς ΦΠΑ"
      ],
      "metadata": {
        "id": "Fxzm2kzgokOY"
      }
    },
    {
      "cell_type": "code",
      "source": [
        "price = float(input(\"Enter price with fare: \"))\n",
        "price_without_fare = (price * 100/124)\n",
        "print(\"Price without fare is: \" , price_without_fare)"
      ],
      "metadata": {
        "colab": {
          "base_uri": "https://localhost:8080/"
        },
        "id": "R1KnzeIhojF1",
        "outputId": "49b99b47-cff8-4525-84c2-5894a914c536"
      },
      "execution_count": 5,
      "outputs": [
        {
          "output_type": "stream",
          "name": "stdout",
          "text": [
            "Enter price with fare: 25\n",
            "Price without fare is:  20.161290322580644\n"
          ]
        }
      ]
    },
    {
      "cell_type": "markdown",
      "source": [
        "6. Δίνονται δεδομένα βάθη και αντίστοιχες συγκεντρώσεις Βωξίτη ανά Γεώτρηση. Το πρόγραμμα επιστρέφει το διάγραμμα των παραπάνω δεδομένων."
      ],
      "metadata": {
        "id": "FHx99GQxpMdP"
      }
    },
    {
      "cell_type": "code",
      "source": [
        "import matplotlib.pyplot as plt\n",
        "\n",
        "depths = [10, 8, 12, 25, 13]\n",
        "concetrations = [35, 20, 25, 13, 18]\n",
        "locations = ['Γ1', 'Γ2', 'Γ3', 'Γ4', 'Γ5']\n",
        "\n",
        "plt.scatter(locations, depths, s=[20 * c for c in concetrations])\n",
        "for i, txt in enumerate(concetrations):\n",
        "    plt.annotate(txt, (locations[i], depths[i]), xytext=(10, 5), textcoords='offset points')\n",
        "\n",
        "plt.xlabel('Γεωτρήσεις')\n",
        "plt.ylabel('Βάθος (m)')\n",
        "plt.title('Βάθος και συγκεντρώσεις Βωξίτη ανά Γεώτρηση')\n",
        "\n",
        "plt.gca().invert_yaxis()\n",
        "\n",
        "plt.grid(False)\n",
        "plt.show()"
      ],
      "metadata": {
        "colab": {
          "base_uri": "https://localhost:8080/",
          "height": 473
        },
        "id": "N2ERakkbpDkM",
        "outputId": "94b22954-01e9-4fa6-872d-a6f0f1e21605"
      },
      "execution_count": 6,
      "outputs": [
        {
          "output_type": "display_data",
          "data": {
            "text/plain": [
              "<Figure size 640x480 with 1 Axes>"
            ],
            "image/png": "[encoded data removed]"
          },
          "metadata": {}
        }
      ]
    },
    {
      "cell_type": "markdown",
      "source": [
        "7. Πρόγραμμα που ζητά από το χρήστη δυο αριθμούς, που αντιστοιχούν στον τρέχοντα μήνα και την τρέχουσα ημέρα του μήνα και δίνει ως έξοδο τις ημέρες που υπολείπονται μέχρι το τέλος του έτους (θεωρούμε ότι ο μήνας έχει 30 ημέρες)."
      ],
      "metadata": {
        "id": "OFsb-SEQpJEA"
      }
    },
    {
      "cell_type": "code",
      "source": [
        "# ask for the current month\n",
        "current_month = int(input(\"The current month is: \"))\n",
        "\n",
        "# check if the input is correct\n",
        "while current_month > 12:\n",
        "    # while it's not print the error\n",
        "    print(\"Error: The month should be less than or equal to 12.\")\n",
        "    # demand again the current month\n",
        "    current_month = int(input(\"Please enter a valid month: \"))\n",
        "\n",
        "# ask for the current day\n",
        "current_day = int(input(\"The current day of the month is: \"))\n",
        "\n",
        "# check if the input is correct\n",
        "while current_day > 30:\n",
        "    # while it's not print the error\n",
        "    print(\"Error: The day should be less than or equal to 30.\")\n",
        "    # demand again the current day\n",
        "    current_day = int(input(\"Please enter a valid day: \"))\n",
        "\n",
        "# calculate the remaining days\n",
        "days_remaining = (30 - current_day) + (12 - current_month) * 30\n",
        "\n",
        "# print the result\n",
        "print(\"The days remaining till the end of the month are:\", days_remaining)"
      ],
      "metadata": {
        "colab": {
          "base_uri": "https://localhost:8080/"
        },
        "id": "kbpCS3q0qPXs",
        "outputId": "59c7bc24-cb64-4e9b-bca8-9f7fc74f724e"
      },
      "execution_count": 8,
      "outputs": [
        {
          "output_type": "stream",
          "name": "stdout",
          "text": [
            "The current month is: 3\n",
            "The current day of the month is: 71\n",
            "Error: The day should be less than or equal to 30.\n",
            "Please enter a valid day: 21\n",
            "The days remaining till the end of the month are: 279\n"
          ]
        }
      ]
    },
    {
      "cell_type": "markdown",
      "source": [
        "8. Πρόγραμμα που δίνει την απόλυτη τιμή ενός αριθμού"
      ],
      "metadata": {
        "id": "mhE5dIyeqzZi"
      }
    },
    {
      "cell_type": "code",
      "source": [
        "#Απόλυτη τιμή αριθμού\n",
        "a = int(input('Δώσε μου αριθμό: '))\n",
        "if a < 0:\n",
        "    a = (-1)*a\n",
        "print('Απόλυτη τιμή αριθμού: ', a)"
      ],
      "metadata": {
        "colab": {
          "base_uri": "https://localhost:8080/"
        },
        "id": "ZalRV-Feq4Dv",
        "outputId": "2448a6fc-7961-4582-ab56-d176d44c92d2"
      },
      "execution_count": 9,
      "outputs": [
        {
          "output_type": "stream",
          "name": "stdout",
          "text": [
            "Δώσε μου αριθμό: -7\n",
            "Απόλυτη τιμή αριθμού:  7\n"
          ]
        }
      ]
    },
    {
      "cell_type": "markdown",
      "source": [
        "9. Πρόγραμμα που θα επιστρέφει αν ο φοιτητής πέρασε η κόπηκε στο μάθημα"
      ],
      "metadata": {
        "id": "FBe-OZbaq_Ul"
      }
    },
    {
      "cell_type": "code",
      "source": [
        "#προάγεται ή απορρίπτεται\n",
        "num = int(input('Παρακαλώ εισάγεται τον αριθμό σας: '))\n",
        "if num > 70 :\n",
        "  print('Άντε πέρασες')\n",
        "else:\n",
        "  print('Απέτυχες, του χρόνου πάλι')"
      ],
      "metadata": {
        "colab": {
          "base_uri": "https://localhost:8080/"
        },
        "id": "RnP5qYgbrKPu",
        "outputId": "5f004a9f-693d-48e7-cd56-34ebbf439730"
      },
      "execution_count": 10,
      "outputs": [
        {
          "output_type": "stream",
          "name": "stdout",
          "text": [
            "Παρακαλώ εισάγεται τον αριθμό σας: 40\n",
            "Απέτυχες, του χρόνου πάλι\n"
          ]
        }
      ]
    },
    {
      "cell_type": "markdown",
      "source": [
        "10. Πρόγραμμα που επιστρέφει τον μέγιστο αριθμό μεταξύ 2 δεδομένων"
      ],
      "metadata": {
        "id": "_XIYihW-rPdQ"
      }
    },
    {
      "cell_type": "code",
      "source": [
        "#Mέγιστος αριθμός\n",
        "a1 = input('Δώσε μου τον πρώτο αριθμό: ')\n",
        "a2 = input('Δώσε μου τον δεύτερο αριθμό: ')\n",
        "if a1 > a2:\n",
        "    m = a1\n",
        "    i = 'Πρώτος'\n",
        "else:\n",
        "    m = a2\n",
        "    i = 'Δεύτερος'\n",
        "print('Ο μεγαλύτερος αριθμός είναι ο', i, ': ', m)"
      ],
      "metadata": {
        "colab": {
          "base_uri": "https://localhost:8080/"
        },
        "id": "EXQYUM6BrXTy",
        "outputId": "357a5147-0d97-4c28-bf9d-d1cc34936e97"
      },
      "execution_count": 14,
      "outputs": [
        {
          "output_type": "stream",
          "name": "stdout",
          "text": [
            "Δώσε μου τον πρώτο αριθμό: 4\n",
            "Δώσε μου τον δεύτερο αριθμό: -3\n",
            "Ο μεγαλύτερος αριθμός είναι ο Πρώτος :  4\n"
          ]
        }
      ]
    }
  ]
}