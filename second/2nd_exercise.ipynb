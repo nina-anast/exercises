{
 "cells": [
  {
   "cell_type": "markdown",
   "id": "245442cf-8e51-4654-a3e3-70781c6bde37",
   "metadata": {},
   "source": [
    "# 2η Εργασία Μαθήματος:\n",
    "\n",
    "\" Εισαγωγή στον Προγραμματισμό ( Python ) \"\r\n",
    "\n",
    "Αναστοπούλου Ευγενία - Συραϊνώ, nm20034\n"
   ]
  },
  {
   "cell_type": "markdown",
   "id": "6035fc45-e4d4-421e-8b6a-47ab53c2615d",
   "metadata": {},
   "source": [
    "## Άσκηση 2.2"
   ]
  },
  {
   "cell_type": "code",
   "execution_count": 1,
   "id": "7134c3c5-0649-46eb-a8cf-caebc88a3ed4",
   "metadata": {},
   "outputs": [
    {
     "name": "stdin",
     "output_type": "stream",
     "text": [
      "Εισάγετε το μήνυμα σας:  καλησπέρα σας!\n"
     ]
    },
    {
     "name": "stdout",
     "output_type": "stream",
     "text": [
      "Ο αριθμός των φωνηέντων εντός του μηνύματος ισούται με:  5 \n",
      "\n",
      "Αποτελεί το 0.38461538461538464\n",
      "14\n",
      "1\n"
     ]
    }
   ],
   "source": [
    "message = input(\"Εισάγετε το μήνυμα σας: \").lower()\n",
    "vowels = \"αεηιουωάέήίόύώϊϋ\"\n",
    "num_vowels = 0\n",
    "void = 0\n",
    "for char in message:\n",
    "    if char == \" \":\n",
    "        void +=1\n",
    "    if char in vowels:\n",
    "        num_vowels +=1\n",
    "pososto = num_vowels / (len(message)- void)\n",
    "print(\"Ο αριθμός των φωνηέντων εντός του μηνύματος ισούται με: \",\n",
    "num_vowels,'\\n')\n",
    "print(\"Αποτελεί το\", pososto)\n",
    "print(len(message))\n",
    "print(void)"
   ]
  },
  {
   "cell_type": "markdown",
   "id": "e9beaa09-9755-4663-83a6-e6cda7eec965",
   "metadata": {},
   "source": [
    "**Διαμορφώστε τον κώδικα έτσι ώστε να υπολογίζει και τον αριθμό των σημείων στίξεως που\n",
    "θα βρεθούν στο κείμενο που δώσατε.**\n",
    "\n",
    "Οι μετατροπές που θα πραγματοποιήσουμε θα είναι για να ακολουθήσουμε την ίδια διαδικασία με τα φωνήεντα και για τα σημεία στίξης. Δηλαδή προσθέσαμε μια μεταβλητή συμβολοσειράς με όλα τα σημεία στίξης (```marks```). Στην συνέχεια, αρχικοποιήσαμε τον αριθμό των σημείων στίξης της πρότασης να είναι ίσος με μηδέν (```num_marks```). Και στην συνέχεια, ελέγχουμε κάθε χαρακτήρα για να δούμε αν είναι σημείο στίξης και όποτε βρίσκουμε έναν, αυξάνουμε τον αριθμό ```num_marks``` κατά ένα. Τέλος, υπολογίζουμε το ποσοστό της πρότασης που είναι τα σημεία στίξης ```pososto_marks``` και εμφανίζουμε τα αποτελέσματα.\n",
    "\n",
    "Μια αλλαγή που έγινε ακόμα είναι το elif, για να μην ελέγχει αν ένας χαρακτήρας είναι σημείο στίξης, αν έχει ήδη αναγνωριστεί ως κενό η φωνήεν. Ακόμα, κρατήσαμε λιγότερα σημαντικά ψηφία στα ποσοστά που εμφανίζουμε στον χρήστη μέσω των μεταβλητών ```formatted_vowels``` και ```formatted_marks```."
   ]
  },
  {
   "cell_type": "code",
   "execution_count": 11,
   "id": "cc5fb8fb-384e-4ef7-ac84-121d376f9f65",
   "metadata": {},
   "outputs": [
    {
     "name": "stdin",
     "output_type": "stream",
     "text": [
      "Εισάγετε το μήνυμα σας:  καλησπέρα σας!\n"
     ]
    },
    {
     "name": "stdout",
     "output_type": "stream",
     "text": [
      "Ο αριθμός των φωνηέντων εντός του μηνύματος ισούται με:  5\n",
      "Αποτελεί το 0.385 % \n",
      "\n",
      "Αντίστοιχα, ο αριθμός των σημείων στίξης εντός του μηνύματος ισούται με  1\n",
      "Αποτελεί το 0.077 % \n",
      "\n",
      "Το συνολικό μέγεθος του μηνύματος είναι 14\n",
      "Και ο αριθμός των κενών χαρακτήρων του μηνήματος 1\n"
     ]
    }
   ],
   "source": [
    "message = input(\"Εισάγετε το μήνυμα σας: \").lower()\n",
    "vowels = \"αεηιουωάέήίόύώϊϋ\"\n",
    "marks = \".,;:!?·\"     # λίστα σημείων στίξης \n",
    "num_vowels = 0\n",
    "num_marks = 0         # αρχικοποιούμε τον αριθμό των σημείων στίξης του κειμένου\n",
    "void = 0\n",
    "for char in message:\n",
    "    if char == \" \":\n",
    "        void +=1\n",
    "    elif char in vowels:\n",
    "        num_vowels +=1 \n",
    "    elif char in marks:\n",
    "        num_marks +=1 # ελέγχουμε κάθε χαρακτήρα που δεν είναι κενός ή φωνήεν, \n",
    "                      # αν είναι σημείο στίξης\n",
    "pososto_vowels = num_vowels / (len(message)- void)\n",
    "formatted_vowels = format(pososto_vowels,\".3f\")  # μειώνουμε τα δεκαδικά ψηφία του ποσοστού \n",
    "                                                 # σε 3 για να είναι πιο καθαρή η έξοδος \n",
    "                                                 # για τον χρήστη\n",
    "pososto_marks = num_marks / (len(message)- void) # βρίσκουμε το ποσοστό των σημείων στίξης\n",
    "formatted_marks = format(pososto_marks,\".3f\")   \n",
    "print(\"Ο αριθμός των φωνηέντων εντός του μηνύματος ισούται με: \",\n",
    "      num_vowels)\n",
    "print(\"Αποτελεί το\", formatted_vowels, \"% \\n\")\n",
    "print(\"Αντίστοιχα, ο αριθμός των σημείων στίξης εντός του μηνύματος ισούται με \", \n",
    "      num_marks)\n",
    "print(\"Αποτελεί το\", formatted_marks, \"% \\n\")\n",
    "print(\"Το συνολικό μέγεθος του μηνύματος είναι\" , len(message))\n",
    "print(\"Και ο αριθμός των κενών χαρακτήρων του μηνήματος\",void)"
   ]
  },
  {
   "cell_type": "markdown",
   "id": "3b7a32cd-a18e-48eb-bb77-e059251d2039",
   "metadata": {},
   "source": [
    "## Άσκηση 3"
   ]
  },
  {
   "cell_type": "code",
   "execution_count": null,
   "id": "16997199-2294-4eb7-95ff-c7c7e2a10268",
   "metadata": {},
   "outputs": [],
   "source": []
  }
 ],
 "metadata": {
  "kernelspec": {
   "display_name": "Python 3 (ipykernel)",
   "language": "python",
   "name": "python3"
  },
  "language_info": {
   "codemirror_mode": {
    "name": "ipython",
    "version": 3
   },
   "file_extension": ".py",
   "mimetype": "text/x-python",
   "name": "python",
   "nbconvert_exporter": "python",
   "pygments_lexer": "ipython3",
   "version": "3.11.9"
  }
 },
 "nbformat": 4,
 "nbformat_minor": 5
}
