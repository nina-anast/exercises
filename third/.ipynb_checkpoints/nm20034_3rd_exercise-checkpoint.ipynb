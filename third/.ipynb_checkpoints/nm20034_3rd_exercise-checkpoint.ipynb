{
 "cells": [
  {
   "cell_type": "markdown",
   "id": "0a154c06-b9dc-4958-af19-ef40bb531a41",
   "metadata": {},
   "source": [
    "# 3η Εργασία Μαθήματος:\n",
    "\n",
    "**\" Εισαγωγή στον Προγραμματισμό ( Python ) \"**\n",
    "\n",
    "Αναστοπούλου Ευγενία - Συραϊνώ, nm20034"
   ]
  },
  {
   "cell_type": "markdown",
   "id": "e35a6ad6-57fe-49cd-816a-f614ac598a2e",
   "metadata": {},
   "source": [
    "## Ασκήσεις Μαθήματος\n",
    "### Άσκηση 1\n",
    "Το πρόγραμμα λαμβάνει δεδομένα με τις θερμοκρασίες κάποιων ημερών στην σειρά, στην συνέχεια τυπώνει την μεγαλύτερη και την μικρότερη θερμοκρασία που του δώθηκαν, μαζί με τις μέρες που αντιστοιχούν."
   ]
  },
  {
   "cell_type": "code",
   "execution_count": 12,
   "id": "b8d0eacc-9d93-458e-93be-1b2d4762d0d3",
   "metadata": {},
   "outputs": [
    {
     "name": "stdout",
     "output_type": "stream",
     "text": [
      "Hottest day: Day 4 with 28.2C\n",
      "Coldest day: Day 5 with 22.1C\n"
     ]
    }
   ],
   "source": [
    "# Example temperature data: (day of the year, temperature in Celsius)\n",
    "temperature_data = [(1,25.5), (2,26.7), (3,27.8), (4,28.2), (5,22.1)]\n",
    "\n",
    "# Finding the hottest day\n",
    "hottest_day = max(temperature_data, key=lambda x:x[1])\n",
    "print(f'Hottest day: Day {hottest_day[0]} with {hottest_day[1]}C')\n",
    "\n",
    "#Findind the coldest day\n",
    "coldest_day = min(temperature_data, key=lambda x:x[1])\n",
    "print(f'Coldest day: Day {coldest_day[0]} with {coldest_day[1]}C')"
   ]
  },
  {
   "cell_type": "markdown",
   "id": "372ceedb-9a81-4728-99de-34a9c6f9e9d3",
   "metadata": {},
   "source": [
    "### Άσκηση 2\n",
    "Το πρόγραμμα λαμβάνει τα δεδομένα από ένα .csv file και στην συνέχεια τυπώνει τις τιμές θερμοκρασιών της κάθε μέρας."
   ]
  },
  {
   "cell_type": "code",
   "execution_count": 13,
   "id": "56c0f418-d83e-446a-b298-f187b0672f8c",
   "metadata": {},
   "outputs": [
    {
     "name": "stdout",
     "output_type": "stream",
     "text": [
      "[('2012-01-01', 12.8), ('2012-01-02', 10.6), ('2012-01-03', 11.7), ('2012-01-04', 12.2), ('2012-01-05', 8.9)]\n"
     ]
    }
   ],
   "source": [
    "import csv\n",
    "\n",
    "#Path to the uploaded CSV file\n",
    "file_path = 'seattle-weather.csv'\n",
    "\n",
    "#Initialize a list to store the tuples\n",
    "weather_data = []\n",
    "\n",
    "#Open and read the CSV file\n",
    "with open(file_path, mode='r') as file:\n",
    "    reader = csv.reader(file)\n",
    "    next(reader)  #Skip the header row if there is one\n",
    "\n",
    "    for column in reader:\n",
    "        #Assuming the first column is the date and the second column is a numerical value (e.g., temperature)\n",
    "        #Adjust th index numbers if your data is structured differently\n",
    "        day=column[0]\n",
    "        value = float(column[2]) #Convert the numerical value to float\n",
    "        weather_data.append((day,value))\n",
    "print(weather_data[:5])"
   ]
  },
  {
   "cell_type": "markdown",
   "id": "c451dba9-2eb1-4437-a647-95660173b540",
   "metadata": {},
   "source": [
    "### Άσκηση 3\n",
    "Αυτήν την φορά το πρόγραμμα λαμβάνει τα δεδομένα του από 2 .txt files. Στην συνέχεια, τυπώνει όλα τα στοιχεία και των δύο αρχείων σε ένα αρχείο ```fruit&vegetables_total.txt``` και μετά τυπώνει όλα τα κοινά δεδομένα των αρχείων σε ένα ξεχωριστό αρχείο ```fruits&vegetables_unique.txt```."
   ]
  },
  {
   "cell_type": "code",
   "execution_count": 14,
   "id": "0001e7ba-2a49-4b3f-b9b9-3e4d1ba3d5db",
   "metadata": {},
   "outputs": [],
   "source": [
    "#1. Άνοιγμα αρχείου κειμένου 1\n",
    "infile1 = open('vitamin_C.txt', 'r')\n",
    "vitamin_c = {line.strip() + '\\n' for line in infile1}\n",
    "#2. Διάβασμα αρχείου κειμένου και δημιουργία συνόλου\n",
    "#3. Κλείσιμου αρχείου κειμένου 1\n",
    "infile1.close()\n",
    "\n",
    "#4. Άνοιγμα αρχείου κειμένου 2\n",
    "infile2 = open('vitamin_A.txt', 'r')\n",
    "vitamin_a = {line.strip() + '\\n' for line in infile2}\n",
    "#5. Διάβασμα αρχείου κειμένου και δημιουργία συνόλου\n",
    "#6. Κλείσιμο αρχείου κειμένου 2\n",
    "infile2.close()\n",
    "\n",
    "#7. Δημιουργία αρχείου με το σύνολο των φρούτων και λαχανικών που περιέχουν είτε βιταμίνη C ή A\n",
    "outfile1 = open('fruit&vegetables_total.txt', 'w')\n",
    "outfile1.writelines(vitamin_c.union(vitamin_a))\n",
    "outfile1.close\n",
    "\n",
    "#8. Δημιοργία αρχείου με τα φρούτα και λαχανικά που περιέχουν και την βιταμίνη C και την A\n",
    "outfile2 = open('fruits&vegetables_unique.txt', 'w')\n",
    "outfile2.writelines(vitamin_c.intersection(vitamin_a))\n",
    "outfile2.close()"
   ]
  },
  {
   "cell_type": "markdown",
   "id": "a317913f-3a2e-4ee2-b5c5-7a64c93d4403",
   "metadata": {},
   "source": [
    "### Άσκηση 4\n",
    "Δημιουργούμε 3 dictionaries και τυπώνουμε διάφορα ζητούμενα των values τους."
   ]
  },
  {
   "cell_type": "code",
   "execution_count": 15,
   "id": "4b46789d-087e-46dc-911d-269da1e11c56",
   "metadata": {},
   "outputs": [
    {
     "name": "stdout",
     "output_type": "stream",
     "text": [
      "<class 'dict'>\n",
      "6999999\n"
     ]
    }
   ],
   "source": [
    "a = {'Paris':6999999,'Louna':6888888}\n",
    "print(type(a))\n",
    "print(a['Paris'])"
   ]
  },
  {
   "cell_type": "code",
   "execution_count": 16,
   "id": "f379515d-ad86-4181-8e62-65dd7531c2da",
   "metadata": {},
   "outputs": [
    {
     "name": "stdout",
     "output_type": "stream",
     "text": [
      "('Town', 'population:1200000')\n"
     ]
    }
   ],
   "source": [
    "b = {'Athens':('Town', 'population:1200000'), 'Chalkida':('Town', 'population:150000')}\n",
    "print(b['Athens'])"
   ]
  },
  {
   "cell_type": "code",
   "execution_count": 17,
   "id": "33d1b51c-44be-4d2f-b681-f01722c466ac",
   "metadata": {},
   "outputs": [
    {
     "name": "stdout",
     "output_type": "stream",
     "text": [
      "dict_items([('one', 'ένα'), ('two', 'δύο'), ('three', 'τρία')])\n",
      "dict_keys(['one', 'two', 'three'])\n",
      "dict_values(['ένα', 'δύο', 'τρία'])\n"
     ]
    }
   ],
   "source": [
    "numbers = [('one','ένα'), ('two','δύο'), ('three','τρία')]\n",
    "d=dict(numbers)\n",
    "print(d.items())\n",
    "print(d.keys())\n",
    "print(d.values())"
   ]
  },
  {
   "cell_type": "markdown",
   "id": "11aaebba-1fdb-44a5-b447-934568265043",
   "metadata": {},
   "source": [
    "### Άσκηση 5\n",
    "Με μια συνάρτηση ```fahrenheit_to_celsius```, ζητάμε τα αποτελέσματα με 2 δυαφορετικούς τρόπους. Στην πρώτη περίπτωση λαμβάνουμε τα δεδομένα με input του χρήστη και τα εξάγουμε σε μορφή πρότασης, ενώ στην δεύτερη, δίνουμε το δεδομένο απευθείας από το κελί και το εξάγουμε απεξέργαστο."
   ]
  },
  {
   "cell_type": "code",
   "execution_count": 18,
   "id": "ff9381b8-9cc9-464a-acc7-d742e840a87f",
   "metadata": {},
   "outputs": [
    {
     "name": "stdin",
     "output_type": "stream",
     "text": [
      "Enter a temperature in degrees Fahrenheit:  25\n"
     ]
    },
    {
     "name": "stdout",
     "output_type": "stream",
     "text": [
      "Celcius equivalent:  -3.89 degrees\n"
     ]
    }
   ],
   "source": [
    "def fahrenheit_to_celsius(t):\n",
    "    con_temp = (5/9) * (t-32)\n",
    "    return con_temp\n",
    "fahrenheit_temp = eval(input('Enter a temperature in degrees Fahrenheit: '))\n",
    "celsius_temp = format(fahrenheit_to_celsius(fahrenheit_temp), '0.2f')\n",
    "print('Celcius equivalent: ', celsius_temp, 'degrees')"
   ]
  },
  {
   "cell_type": "code",
   "execution_count": 19,
   "id": "d0503714-a9ba-4ff4-8c4b-74857e80ef6d",
   "metadata": {},
   "outputs": [
    {
     "data": {
      "text/plain": [
       "-3.8888888888888893"
      ]
     },
     "execution_count": 19,
     "metadata": {},
     "output_type": "execute_result"
    }
   ],
   "source": [
    "fahrenheit_to_celsius(25)"
   ]
  },
  {
   "cell_type": "markdown",
   "id": "2128d839-7e40-439b-98f2-04090f9a90f5",
   "metadata": {},
   "source": [
    "### Άσκηση 6 \n",
    "Ο χρήστης δίνει στο πρόγραμμα το ονοματεπώνυμό του, και το πρόγραμμα με την συνάρτηση ```main()``` χωρίζει το μικρό όνομα με το επίθετο με το κενό και τυπώνει το μικρό όνομα."
   ]
  },
  {
   "cell_type": "code",
   "execution_count": 20,
   "id": "ee0169c3-785c-4948-a776-e162957d202e",
   "metadata": {},
   "outputs": [
    {
     "name": "stdin",
     "output_type": "stream",
     "text": [
      "Enter a non-negative number (-999 to end):  34\n",
      "Enter a non-negative number (-999 to end):  76.987\n",
      "Enter a non-negative number (-999 to end):  ηι\n"
     ]
    },
    {
     "name": "stdout",
     "output_type": "stream",
     "text": [
      "Error: Please enter a valid number.\n"
     ]
    },
    {
     "name": "stdin",
     "output_type": "stream",
     "text": [
      "Enter a non-negative number (-999 to end):  97,9\n"
     ]
    },
    {
     "name": "stdout",
     "output_type": "stream",
     "text": [
      "Error: Please enter a valid number.\n"
     ]
    },
    {
     "name": "stdin",
     "output_type": "stream",
     "text": [
      "Enter a non-negative number (-999 to end):  -9\n"
     ]
    },
    {
     "name": "stdout",
     "output_type": "stream",
     "text": [
      "Error: number must be non-negative.\n"
     ]
    },
    {
     "name": "stdin",
     "output_type": "stream",
     "text": [
      "Enter a non-negative number (-999 to end):  -999\n"
     ]
    },
    {
     "name": "stdout",
     "output_type": "stream",
     "text": [
      "Minimum value: 34.0\n",
      "Maximum value: 76.987\n",
      "Average value: 55.49\n"
     ]
    }
   ],
   "source": [
    "numbers = []\n",
    "while True:\n",
    "    num = input(\"Enter a non-negative number (-999 to end): \")\n",
    "    if num == \"-999\":\n",
    "        break\n",
    "    try:               # Αν δωθεί αριθμός τον προσθέτει στο numbers\n",
    "        num = float(num)\n",
    "        if num < 0:\n",
    "            print(\"Error: number must be non-negative.\")\n",
    "            continue\n",
    "        numbers.append(num)\n",
    "    except ValueError: # Αν δεν δωθεί αριθμός ενημερώνει τον χρήστη\n",
    "        print(\"Error: Please enter a valid number.\")\n",
    "\n",
    "if not numbers:\n",
    "    print(\"No numbers entered.\")\n",
    "else:\n",
    "    minimum = min(numbers)\n",
    "    maximum = max(numbers)\n",
    "    average = sum(numbers) / len(numbers)\n",
    "    print(\"Minimum value:\", minimum)\n",
    "    print(\"Maximum value:\", maximum)\n",
    "    print(\"Average value:\", format(average, '.2f'))"
   ]
  },
  {
   "cell_type": "markdown",
   "id": "ef02b84a-7de7-4e4b-aacb-280505a04fd3",
   "metadata": {},
   "source": [
    "## Kώδικες Μαθήματος\n",
    "### Κώδικας 3\n",
    "**Παράδειγμα Κώδικα: Δημιουργία και Εγγραφή Αρχείου**"
   ]
  },
  {
   "cell_type": "code",
   "execution_count": 1,
   "id": "9324aa46-1f20-4538-8b8c-b9658cf01b88",
   "metadata": {},
   "outputs": [],
   "source": [
    "# Δημιουργία και άνοιγμα αρχείου για εγγραφή\n",
    "file = open('example.txt', 'w')\n",
    "# Εγγραφή γραμμής στο αρχείο\n",
    "file.write(\"Καλημέρα κόσμε!\")\n",
    "# Κλείσιμο αρχείου\n",
    "file.close()"
   ]
  },
  {
   "cell_type": "markdown",
   "id": "da4d068e-4f41-41e4-a617-a69755c12409",
   "metadata": {},
   "source": [
    "### Κώδικας 4\n",
    "**Παράδειγμα Κώδικα: Ανάγνωση Αρχείου**\n",
    "\n",
    "Για την ανάγνωση αρχείου, ανοίγουμε το αρχείο σε λειτουργία ανάγνωσης (`'r'`) και χρησιμοποιούμε μία\r\n",
    "από τις εντολές ανάγνωσης, όπως τη `read()`, για να διαβάσουμε ολόκληρο το περιεχόμενο, ή τη\r\n",
    "`readline()` για να διαβάσουμε μία γραμμή κάθε φορ.\r"
   ]
  },
  {
   "cell_type": "code",
   "execution_count": 1,
   "id": "ca513d24-cbdc-42ad-99f0-62c935077a8a",
   "metadata": {},
   "outputs": [
    {
     "name": "stdout",
     "output_type": "stream",
     "text": [
      "Καλημέρα κόσμε!\n"
     ]
    }
   ],
   "source": [
    "# Άνοιγμα αρχείου για ανάγνωση\n",
    "file = open('example.txt', 'r')\n",
    "# Ανάγνωση περιεχομένου\n",
    "content = file.read()\n",
    "print(content)\n",
    "# Κλείσιμο αρχείου\n",
    "file.close()"
   ]
  },
  {
   "cell_type": "markdown",
   "id": "0bf0d780-b846-4f6d-b4c4-2e28132ab364",
   "metadata": {},
   "source": [
    "### Κώδικας 5\n",
    "**Παράδειγμα Κώδικα: Χρήση `with`**\n",
    "\n",
    "Η Python παρέχει τη δομή `with` που διασφαλίζει το αυτόματο κλείσιμο του αρχείου ακόμα και αν\n",
    "συμβεί κάποιο λάθος κατά την εκτέλεση του κώδικα. Είναι πιο ασφαλής και καθαρότερη μέθοδος για το\n",
    "άνοιγμα και το κλείσιμο αρχείων."
   ]
  },
  {
   "cell_type": "code",
   "execution_count": 2,
   "id": "0f618c22-9d57-424e-9731-f2229d69a60f",
   "metadata": {},
   "outputs": [
    {
     "name": "stdout",
     "output_type": "stream",
     "text": [
      "Καλημέρα κόσμε!\n"
     ]
    }
   ],
   "source": [
    "# Άνοιγμα και ανάγνωση αρχείου με τη χρήση της δομής with\n",
    "with open('example.txt', 'r') as file:\n",
    " content = file.read()\n",
    " print(content)"
   ]
  },
  {
   "cell_type": "markdown",
   "id": "0be432bb-fd8b-4245-a777-1882d3667287",
   "metadata": {},
   "source": [
    "Στο παρακάτω παράδειγμα, θα δούμε τη διαχείριση και την επεξεργασία δεδομένων από αρχεία κειμένου\n",
    "που περιέχουν πληροφορίες για φρούτα και λαχανικά πλούσια σε βιταμίνες C και A. Θα αναλύσουμε τις\n",
    "εντολές για το άνοιγμα, την ανάγνωση, την επεξεργασία και το κλείσιμο των αρχείων, καθώς και για τη\n",
    "δημιουργία νέων αρχείων με τα επιθυμητά δεδομένα.\n",
    "\n",
    "### Κώδικας 6\n",
    "\n",
    "**Άνοιγμα και Ανάγνωση του Αρχείου για Βιταμίνη C**\n",
    "\n",
    "Ανοίγουμε το αρχείο vitamin_C.txt σε κατάσταση ανάγνωσης, διαβάζουμε τις γραμμές του, αφαιρούμε τα\n",
    "περιττά κενά και δημιουργούμε ένα σύνολο με τις γραμμές, προσθέτοντας έναν χαρακτήρα νέας γραμμής\n",
    "σε κάθε μία. Στο τέλος κλείνουμε το αρχείο."
   ]
  },
  {
   "cell_type": "code",
   "execution_count": 3,
   "id": "8e11bf59-fb6b-46da-84a0-4e062c6d9ff8",
   "metadata": {},
   "outputs": [],
   "source": [
    "# άνοιγμα αρχείου κειμένου 1\n",
    "infile1 = open(\"vitamin_C.txt\", 'r')\n",
    "# διάβασμα αρχείου κειμένου και δημιουργία συνόλου\n",
    "vitamin_c = {line.strip() + '\\n' for line in infile1}\n",
    "# κλείσιμο αρχείου κειμένου 1\n",
    "infile1.close()"
   ]
  },
  {
   "cell_type": "markdown",
   "id": "e86056fd-05e4-4761-8baa-b8fcda83f502",
   "metadata": {},
   "source": [
    "### Κώδικας 7\n",
    "\n",
    "**Άνοιγμα και Ανάγνωση του Αρχείου για Βιταμίνη A**\n",
    "\n",
    "Ακολουθούμε την ίδια διαδικασία για το αρχείο vitamin_A.txt."
   ]
  },
  {
   "cell_type": "code",
   "execution_count": 4,
   "id": "3d14fde7-87c8-41a3-a999-264e1398a226",
   "metadata": {},
   "outputs": [],
   "source": [
    "# άνοιγμα αρχείου κειμένου 2\n",
    "infile2 = open(\"vitamin_A.txt\", 'r')\n",
    "# διάβασμα αρχείου κειμένου και δημιουργία συνόλου\n",
    "vitamin_a = {line.strip() + '\\n' for line in infile2}\n",
    "# κλείσιμο αρχείου κειμένου 2\n",
    "infile2.close()"
   ]
  },
  {
   "cell_type": "markdown",
   "id": "e72ef0b2-8429-48a5-8b8f-4a08a54abcca",
   "metadata": {},
   "source": [
    "### Κώδικας 8\n",
    "\n",
    "**Δημιουργία Αρχείου με Ένωση Δεδομένων (Φρούτα και Λαχανικά με Βιταμίνη C ή A)**\n",
    "\n",
    "Σε αυτό το τμήμα του κώδικα, δημιουργούμε δύο νέα αρχεία: το ένα με όλα τα φρούτα και λαχανικά που\r\n",
    "περιέχουν έστω μία από τις δύο βιταμίνες (ένωση) και το άλλο με εκείνα που περιέχουν και τις δύο\r\n",
    "βιταμίνες (τομή.\r"
   ]
  },
  {
   "cell_type": "code",
   "execution_count": 6,
   "id": "69dc6214-5b2d-4595-b122-e2228932b2ef",
   "metadata": {},
   "outputs": [],
   "source": [
    "# δημιουργία αρχείου με το σύνολο των φρούτων και λαχανικών που περιέχουν είτε βιταμίνη C ή Α\n",
    "outfile1 = open(\"fruit&vegetables_total.txt\", 'w')\n",
    "outfile1.writelines(vitamin_c.union(vitamin_a))\n",
    "outfile1.close()"
   ]
  },
  {
   "cell_type": "markdown",
   "id": "54b1c682-2a6f-4961-9435-6cfc556ba67e",
   "metadata": {},
   "source": [
    "### Κώδικας 9\n",
    "\n",
    "**Δημιουργία Αρχείου με Τομή Δεδομένων (Φρούτα και Λαχανικά με Και τις Δύο Βιταμίνες)**"
   ]
  },
  {
   "cell_type": "code",
   "execution_count": 7,
   "id": "1b7014b0-415f-41df-91d4-e4312d1d2607",
   "metadata": {},
   "outputs": [],
   "source": [
    "# δημιουργία αρχείου με τα φρούτα και λαχανικά που έχουν και τη βιταμίνη C και την A\n",
    "outfile2 = open(\"fruit&vegetables_unique.txt\", 'w')\n",
    "outfile2.writelines(vitamin_c.intersection(vitamin_a))\n",
    "outfile2.close()"
   ]
  },
  {
   "cell_type": "markdown",
   "id": "30316454-7d58-498c-8aa0-306e26ac3044",
   "metadata": {},
   "source": [
    "## Ασκήσεις Εκφώνησης\n",
    "### Άσκηση 1: Διαχείριση Αποθεμάτων\n",
    "\n",
    "Αναπτύξτε ένα πρόγραμμα διαχείρισης αποθεμάτων για ένα κατάστημα ηλεκτρονικών\r\n",
    "προϊόντων. Το πρόγραμμα θα πρέπει να επιτρέπει την προσθήκη νέων προϊόντων, την ανανέωση των\r\n",
    "αποθεμάτων υπαρχόντων προϊόντων και την εμφάνιση του τρέχοντος αποθέματος.\r\n",
    "Ο παρακάτω κώδικας αποτελεί μια απλή εφαρμογή διαχείρισης αποθεμάτων για ένα κατάστημα που πουλά\r\n",
    "ηλεκτρονικά προϊόντα. Η λίστα `inventory` αποθηκεύει πληροφορίες για τα προϊόντα σε πλειάδες (ID\r\n",
    "προϊόντος, όνομα προϊόντος, ποσότητα)."
   ]
  },
  {
   "cell_type": "code",
   "execution_count": 45,
   "id": "8945df6c-03ac-42d1-9403-c96077fa8721",
   "metadata": {},
   "outputs": [
    {
     "name": "stdout",
     "output_type": "stream",
     "text": [
      "\n",
      "Current Inventory:\n",
      "ID: 101, Product: Apple iPhone, Quantity: 30\n",
      "ID: 102, Product: Samsung Galaxy, Quantity: 45\n",
      "ID: 103, Product: Google Pixel, Quantity: 25\n",
      "\n"
     ]
    },
    {
     "name": "stdin",
     "output_type": "stream",
     "text": [
      "Do you want to (1) Add a new product or (2) Restock an existing product? Enter 1 or 2 (or 'quit' to exit):  quit\n"
     ]
    }
   ],
   "source": [
    "inventory = [\n",
    "    (101, \"Apple iPhone\", 30),\n",
    "    (102, \"Samsung Galaxy\", 45),\n",
    "    (103, \"Google Pixel\", 25),\n",
    "]\n",
    "\n",
    "def display_inventory(inventory):\n",
    "    print(\"\\nCurrent Inventory:\")\n",
    "    for pid, name, quantity in inventory:\n",
    "        print(f\"ID: {pid}, Product: {name}, Quantity: {quantity}\")\n",
    "    print()  # Add an extra newline for spacing\n",
    "\n",
    "def add_new_product(inventory):\n",
    "    pid = int(input(\"Enter Product ID: \"))\n",
    "    name = input(\"Enter Product Name: \")\n",
    "    quantity = int(input(\"Enter Quantity: \"))\n",
    "    inventory.append((pid, name, quantity))\n",
    "    print(f\"{name} added to inventory.\")\n",
    "\n",
    "def restock_product(inventory):\n",
    "    pid = int(input(\"Enter Product ID to restock: \"))\n",
    "    quantity = int(input(\"Enter Quantity to add: \"))\n",
    "    inventory = [(id, name, qty + quantity if id == pid else qty) for id, name, qty in inventory]\n",
    "    print(\"Inventory updated.\")\n",
    "    return inventory\n",
    "\n",
    "while True:\n",
    "    display_inventory(inventory)\n",
    "    choice = input(\"Do you want to (1) Add a new product or (2) Restock an existing product? Enter 1 or 2 (or 'quit' to exit): \").strip()\n",
    "    if choice == 'quit':\n",
    "        break\n",
    "    elif choice == '1':\n",
    "        add_new_product(inventory)\n",
    "    elif choice == '2':\n",
    "        inventory = restock_product(inventory)\n",
    "    else:\n",
    "        print(\"Invalid option, please try again.\")\n"
   ]
  },
  {
   "cell_type": "markdown",
   "id": "9407d653-36e2-4a61-979e-f6539a23945e",
   "metadata": {},
   "source": [
    "### Ζητείτε:\n",
    "**Α. Δημιουργήστε ένα κώδικα για να βεβαιωθείτε ότι οι ποσότητες είναι θετικοί αριθμοί.**\n",
    "\n",
    "Για να διασφαλίσετε ότι οι ποσότητες που εισάγονται είναι θετικοί αριθμοί, μπορείτε να ενσωματώσετε\n",
    "ελέγχους εισόδου στις συναρτήσεις add_new_product, και restock_product. Αυτοί οι έλεγχοι θα\n",
    "βεβαιώνουν ότι οι χρήστες δεν μπορούν να εισάγουν μη έγκυρες τιμές.\n",
    "\n",
    "Στις συναρτήσεις προσθέσαμε τον έλεγχο στο ```while True:```. Συγκεκριμένα, "
   ]
  },
  {
   "cell_type": "code",
   "execution_count": 23,
   "id": "2cf47819-907f-4c55-9e6a-61cdbd31e06f",
   "metadata": {},
   "outputs": [],
   "source": [
    "def add_new_product(inventory):\n",
    "    pid = int(input(\"Enter Product ID: \"))\n",
    "    name = input(\"Enter Product Name: \")\n",
    "    while True:\n",
    "        try:\n",
    "            quantity = int(input(\"Enter Quantity: \"))\n",
    "            if quantity < 0:\n",
    "                print(\"Invalid input. Quantity must be a positive number.\")\n",
    "            else:\n",
    "                break\n",
    "        except ValueError:\n",
    "            print(\"Invalid input. Quantity must be a valid integer.\")\n",
    "    inventory.append((pid, name, quantity))\n",
    "    print(f\"{name} added to inventory.\")\n",
    "\n",
    "def restock_product(inventory):\n",
    "    pid = int(input(\"Enter Product ID to restock: \"))\n",
    "    while True:\n",
    "        try:\n",
    "            quantity = int(input(\"Enter Quantity: \"))\n",
    "            if quantity < 0:\n",
    "                print(\"Invalid input. Quantity must be a positive number.\")\n",
    "            else:\n",
    "                break\n",
    "        except ValueError:\n",
    "            print(\"Invalid input. Quantity must be a valid integer.\")\n",
    "    inventory = [(id, name, qty + quantity if id == pid else qty) for id, name, qty in inventory]\n",
    "    print(\"Inventory updated.\")\n",
    "    return inventory"
   ]
  },
  {
   "cell_type": "code",
   "execution_count": 24,
   "id": "376cdaa8-fded-4a41-9c3f-f323b912f6d4",
   "metadata": {},
   "outputs": [
    {
     "name": "stdout",
     "output_type": "stream",
     "text": [
      "\n",
      "Current Inventory:\n",
      "ID: 101, Product: Apple iPhone, Quantity: 30\n",
      "ID: 102, Product: Samsung Galaxy, Quantity: 45\n",
      "ID: 103, Product: Google Pixel, Quantity: 25\n",
      "ID: 1234, Product: book, Quantity: 13\n",
      "ID: 1234, Product: book, Quantity: 8\n",
      "ID: 1235, Product: book2, Quantity: 7\n",
      "\n"
     ]
    },
    {
     "name": "stdin",
     "output_type": "stream",
     "text": [
      "Do you want to (1) Add a new product or (2) Restock an existing product? Enter 1 or 2 (or 'quit' to exit):  2\n",
      "Enter Product ID to restock:  2\n",
      "Enter Quantity:  -8\n"
     ]
    },
    {
     "name": "stdout",
     "output_type": "stream",
     "text": [
      "Invalid input. Quantity must be a positive number.\n"
     ]
    },
    {
     "name": "stdin",
     "output_type": "stream",
     "text": [
      "Enter Quantity:  7\n"
     ]
    },
    {
     "name": "stdout",
     "output_type": "stream",
     "text": [
      "Inventory updated.\n",
      "\n",
      "Current Inventory:\n",
      "ID: 101, Product: Apple iPhone, Quantity: 30\n",
      "ID: 102, Product: Samsung Galaxy, Quantity: 45\n",
      "ID: 103, Product: Google Pixel, Quantity: 25\n",
      "ID: 1234, Product: book, Quantity: 13\n",
      "ID: 1234, Product: book, Quantity: 8\n",
      "ID: 1235, Product: book2, Quantity: 7\n",
      "\n"
     ]
    },
    {
     "name": "stdin",
     "output_type": "stream",
     "text": [
      "Do you want to (1) Add a new product or (2) Restock an existing product? Enter 1 or 2 (or 'quit' to exit):  quit\n"
     ]
    }
   ],
   "source": [
    "while True:\n",
    "    display_inventory(inventory)\n",
    "    choice = input(\"Do you want to (1) Add a new product or (2) Restock an existing product? Enter 1 or 2 (or 'quit' to exit): \").strip()\n",
    "    if choice == 'quit':\n",
    "        break\n",
    "    elif choice == '1':\n",
    "        add_new_product(inventory)\n",
    "    elif choice == '2':\n",
    "        inventory = restock_product(inventory)\n",
    "    else:\n",
    "        print(\"Invalid option, please try again.\")"
   ]
  },
  {
   "cell_type": "markdown",
   "id": "2e774703-d1a4-40ad-be6f-21dffa61992f",
   "metadata": {},
   "source": [
    "**Β. Δημιουργήστε έναν κώδικα που να επιτρέπει στους χρήστες να αφαιρούν ποσότητες από το\n",
    "απόθεμα, εκτός από την προσθήκη ποσοτήτων.**\n",
    "\n",
    "\n",
    "Για να ενσωματώσετε μια λειτουργία που να επιτρέπει στους χρήστες να αφαιρούν ποσότητες από το\n",
    "απόθεμα, μπορείτε να τροποποιήσετε τη συνάρτηση restock_product για να διαχειρίζεται και την αφαίρεση\n",
    "ποσότητας, ή να προσθέσετε μια νέα συνάρτηση που να είναι ειδικά για αυτό το σκοπό.\n",
    "\n",
    "Για να λειτουργήσει σωστά ο κώδικας ενσωματώστε στην μεταβλητή choice του κώδικα 3.10 την\n",
    "δυνατότητα αφαίρεσης αποθέματος. "
   ]
  },
  {
   "cell_type": "code",
   "execution_count": 29,
   "id": "f3105cb7-9244-4c79-8ee9-1467b76ea167",
   "metadata": {},
   "outputs": [],
   "source": [
    "def remove_product_quantity(inventory):\n",
    "    pid = int(input(\"Enter Product ID to remove stock from: \"))\n",
    "    while True:\n",
    "        try:\n",
    "            quantity = int(input(\"Enter Quantity: \"))\n",
    "            if quantity < 0:\n",
    "                print(\"Invalid input. Quantity must be a positive number.\")\n",
    "            else:\n",
    "                break\n",
    "        except ValueError:\n",
    "            print(\"Invalid input. Quantity must be a valid integer.\")\n",
    "        \n",
    "    # Check if the current stock is sufficient to remove the requested quantity\n",
    "    for idx, item in enumerate(inventory):\n",
    "        if item[0] == pid:\n",
    "            if item[2] >= quantity:\n",
    "                inventory[idx] = (item[0], item[1], item[2] - quantity)\n",
    "                print(f\"{quantity} units removed from {item[1]}.\")\n",
    "            else:\n",
    "                print(\"Not enough stock available to remove the requested quantity.\")\n",
    "            break\n",
    "    return inventory"
   ]
  },
  {
   "cell_type": "code",
   "execution_count": 30,
   "id": "f10f47b8-9abe-4b13-a849-4c9774799c61",
   "metadata": {},
   "outputs": [
    {
     "name": "stdout",
     "output_type": "stream",
     "text": [
      "\n",
      "Current Inventory:\n",
      "ID: 101, Product: Apple iPhone, Quantity: 30\n",
      "ID: 102, Product: Samsung Galaxy, Quantity: 45\n",
      "ID: 103, Product: Google Pixel, Quantity: 25\n",
      "ID: 1234, Product: book, Quantity: 13\n",
      "ID: 1234, Product: book, Quantity: 8\n",
      "ID: 1235, Product: book2, Quantity: 7\n",
      "\n"
     ]
    },
    {
     "name": "stdin",
     "output_type": "stream",
     "text": [
      "Do you want to (1) Add a new product or (2) Restock or (3) Remove Quantity an existing product? Enter 1 or 2 (or 'quit' to exit):  1234\n"
     ]
    },
    {
     "name": "stdout",
     "output_type": "stream",
     "text": [
      "Invalid option, please try again.\n",
      "\n",
      "Current Inventory:\n",
      "ID: 101, Product: Apple iPhone, Quantity: 30\n",
      "ID: 102, Product: Samsung Galaxy, Quantity: 45\n",
      "ID: 103, Product: Google Pixel, Quantity: 25\n",
      "ID: 1234, Product: book, Quantity: 13\n",
      "ID: 1234, Product: book, Quantity: 8\n",
      "ID: 1235, Product: book2, Quantity: 7\n",
      "\n"
     ]
    },
    {
     "name": "stdin",
     "output_type": "stream",
     "text": [
      "Do you want to (1) Add a new product or (2) Restock or (3) Remove Quantity an existing product? Enter 1 or 2 (or 'quit' to exit):  1\n",
      "Enter Product ID:  1234\n",
      "Enter Product Name:  k\n",
      "Enter Quantity:  k\n"
     ]
    },
    {
     "name": "stdout",
     "output_type": "stream",
     "text": [
      "Invalid input. Quantity must be a valid integer.\n"
     ]
    },
    {
     "name": "stdin",
     "output_type": "stream",
     "text": [
      "Enter Quantity:  9\n"
     ]
    },
    {
     "name": "stdout",
     "output_type": "stream",
     "text": [
      "k added to inventory.\n",
      "\n",
      "Current Inventory:\n",
      "ID: 101, Product: Apple iPhone, Quantity: 30\n",
      "ID: 102, Product: Samsung Galaxy, Quantity: 45\n",
      "ID: 103, Product: Google Pixel, Quantity: 25\n",
      "ID: 1234, Product: book, Quantity: 13\n",
      "ID: 1234, Product: book, Quantity: 8\n",
      "ID: 1235, Product: book2, Quantity: 7\n",
      "ID: 1234, Product: k, Quantity: 9\n",
      "\n"
     ]
    },
    {
     "name": "stdin",
     "output_type": "stream",
     "text": [
      "Do you want to (1) Add a new product or (2) Restock or (3) Remove Quantity an existing product? Enter 1 or 2 (or 'quit' to exit):  3\n",
      "Enter Product ID to remove stock from:  1234\n",
      "Enter Quantity:  6\n"
     ]
    },
    {
     "name": "stdout",
     "output_type": "stream",
     "text": [
      "6 units removed from book.\n",
      "\n",
      "Current Inventory:\n",
      "ID: 101, Product: Apple iPhone, Quantity: 30\n",
      "ID: 102, Product: Samsung Galaxy, Quantity: 45\n",
      "ID: 103, Product: Google Pixel, Quantity: 25\n",
      "ID: 1234, Product: book, Quantity: 7\n",
      "ID: 1234, Product: book, Quantity: 8\n",
      "ID: 1235, Product: book2, Quantity: 7\n",
      "ID: 1234, Product: k, Quantity: 9\n",
      "\n"
     ]
    },
    {
     "name": "stdin",
     "output_type": "stream",
     "text": [
      "Do you want to (1) Add a new product or (2) Restock or (3) Remove Quantity an existing product? Enter 1 or 2 (or 'quit' to exit):  3\n",
      "Enter Product ID to remove stock from:  1234\n",
      "Enter Quantity:  k\n"
     ]
    },
    {
     "name": "stdout",
     "output_type": "stream",
     "text": [
      "Invalid input. Quantity must be a valid integer.\n"
     ]
    },
    {
     "name": "stdin",
     "output_type": "stream",
     "text": [
      "Enter Quantity:  -9\n"
     ]
    },
    {
     "name": "stdout",
     "output_type": "stream",
     "text": [
      "Invalid input. Quantity must be a positive number.\n"
     ]
    },
    {
     "name": "stdin",
     "output_type": "stream",
     "text": [
      "Enter Quantity:  5\n"
     ]
    },
    {
     "name": "stdout",
     "output_type": "stream",
     "text": [
      "5 units removed from book.\n",
      "\n",
      "Current Inventory:\n",
      "ID: 101, Product: Apple iPhone, Quantity: 30\n",
      "ID: 102, Product: Samsung Galaxy, Quantity: 45\n",
      "ID: 103, Product: Google Pixel, Quantity: 25\n",
      "ID: 1234, Product: book, Quantity: 2\n",
      "ID: 1234, Product: book, Quantity: 8\n",
      "ID: 1235, Product: book2, Quantity: 7\n",
      "ID: 1234, Product: k, Quantity: 9\n",
      "\n"
     ]
    },
    {
     "name": "stdin",
     "output_type": "stream",
     "text": [
      "Do you want to (1) Add a new product or (2) Restock or (3) Remove Quantity an existing product? Enter 1 or 2 (or 'quit' to exit):  3\n",
      "Enter Product ID to remove stock from:  101\n",
      "Enter Quantity:  9.7\n"
     ]
    },
    {
     "name": "stdout",
     "output_type": "stream",
     "text": [
      "Invalid input. Quantity must be a valid integer.\n"
     ]
    },
    {
     "name": "stdin",
     "output_type": "stream",
     "text": [
      "Enter Quantity:  7\n"
     ]
    },
    {
     "name": "stdout",
     "output_type": "stream",
     "text": [
      "7 units removed from Apple iPhone.\n",
      "\n",
      "Current Inventory:\n",
      "ID: 101, Product: Apple iPhone, Quantity: 23\n",
      "ID: 102, Product: Samsung Galaxy, Quantity: 45\n",
      "ID: 103, Product: Google Pixel, Quantity: 25\n",
      "ID: 1234, Product: book, Quantity: 2\n",
      "ID: 1234, Product: book, Quantity: 8\n",
      "ID: 1235, Product: book2, Quantity: 7\n",
      "ID: 1234, Product: k, Quantity: 9\n",
      "\n"
     ]
    },
    {
     "name": "stdin",
     "output_type": "stream",
     "text": [
      "Do you want to (1) Add a new product or (2) Restock or (3) Remove Quantity an existing product? Enter 1 or 2 (or 'quit' to exit):  quit\n"
     ]
    }
   ],
   "source": [
    "while True:\n",
    "    display_inventory(inventory)\n",
    "    choice = input(\"Do you want to (1) Add a new product or (2) Restock or (3) Remove Quantity of an existing product? Enter 1, 2 or 3 (or 'quit' to exit): \").strip()\n",
    "    if choice == 'quit':\n",
    "        break\n",
    "    elif choice == '1':\n",
    "        add_new_product(inventory)\n",
    "    elif choice == '2':\n",
    "        inventory = restock_product(inventory)\n",
    "    elif choice == '3':\n",
    "        inventory = remove_product_quantity(inventory)\n",
    "    else:\n",
    "        print(\"Invalid option, please try again.\")"
   ]
  },
  {
   "cell_type": "markdown",
   "id": "d47be092-7a79-455e-afb8-f52b770b0cd8",
   "metadata": {},
   "source": [
    "**Γ. Προσθέστε έλεγχο για την ύπαρξη του ID προϊόντος πριν εκτελεστεί η ανανέωση ή η αφαίρεση της\n",
    "ποσότητας.**\n",
    "\n",
    "Για να προσθέσετε έλεγχο που θα επαληθεύει αν ένα ID προϊόντος υπάρχει πριν την ανανέωση της\n",
    "ποσότητας στη συνάρτηση restock_product, είναι σημαντικό να βεβαιωθείτε ότι ο χρήστης δεν προσπαθεί\n",
    "να ανανεώσει ένα προϊόν που δεν υπάρχει στο απόθεμα. Αυτό επιτυγχάνεται ενσωματώνοντας έναν\n",
    "επιπλέον έλεγχο στην αρχή της συνάρτησης που θα εξακριβώνει την ύπαρξη του δοθέντος ID.\n",
    "\n",
    "Προσπαθήστε να εισάγετε τον έλεγχο για την ύπαρξη του ID προϊόντος σε κάθε συνάρτηση του τελικού\n",
    "προγράμματος, δηλαδή και στην συνάρτηση."
   ]
  },
  {
   "cell_type": "code",
   "execution_count": 46,
   "id": "c3202986-08df-4733-bbfe-2e2cb1afeb36",
   "metadata": {},
   "outputs": [],
   "source": [
    "def get_pid(inventory):\n",
    "    while True:\n",
    "        try:\n",
    "            pid = int(input(\"Enter Product ID: \"))\n",
    "            # Επαληθεύστε ότι το ID προϊόντος υπάρχει στο απόθεμα\n",
    "            product_exists = any(item[0] == pid for item in inventory) \n",
    "            if not product_exists:\n",
    "                print(\"No product found with the given ID.\")\n",
    "            elif pid <= 0:\n",
    "                print(\"Invalid input. Product ID must be a positive number.\")\n",
    "            else: \n",
    "                break\n",
    "        except ValueError:\n",
    "            print(\"Invalid input. Product ID must be a valid integer.\")\n",
    "        \n",
    "    return pid\n",
    "\n",
    "def get_quantity(inventory):\n",
    "    while True:\n",
    "        try:\n",
    "            quantity = int(input(\"Enter Quantity: \"))\n",
    "            if quantity < 0:\n",
    "                print(\"Invalid input. Quantity must be a positive number.\")\n",
    "            else:\n",
    "                break\n",
    "        except ValueError:\n",
    "            print(\"Invalid input. Quantity must be a valid integer.\")\n",
    "    return quantity\n",
    "\n",
    "def restock_product(inventory):\n",
    "\n",
    "    pid = get_pid(inventory)\n",
    "    quantity = get_quantity(inventory)\n",
    "        \n",
    "    # Ενημέρωση της ποσότητας του προϊόντος\n",
    "    inventory = [(id, name, qty + quantity if id == pid else qty) for id, name, qty in\n",
    "inventory]\n",
    "    print(\"Inventory updated.\")\n",
    "    return inventory\n",
    "\n",
    "def remove_product_quantity(inventory):\n",
    "    \n",
    "    pid = get_pid(inventory)\n",
    "    quantity = get_quantity(inventory)\n",
    "        \n",
    "    # Check if the current stock is sufficient to remove the requested quantity\n",
    "    for idx, item in enumerate(inventory):\n",
    "        if item[0] == pid:\n",
    "            if item[2] >= quantity:\n",
    "                inventory[idx] = (item[0], item[1], item[2] - quantity)\n",
    "                print(f\"{quantity} units removed from {item[1]}.\")\n",
    "            else:\n",
    "                print(\"Not enough stock available to remove the requested quantity.\")\n",
    "            break\n",
    "            \n",
    "    return inventory\n",
    "\n",
    "def add_new_product(inventory):\n",
    "    \n",
    "    while True:\n",
    "        try:\n",
    "            pid = int(input(\"Enter Product ID: \"))\n",
    "            # Επαληθεύστε ότι το ID προϊόντος υπάρχει στο απόθεμα\n",
    "            product_exists = any(item[0] == pid for item in inventory) \n",
    "            if not product_exists:\n",
    "                break\n",
    "            elif pid <= 0:\n",
    "                print(\"Invalid input. Product ID must be a positive number.\")\n",
    "            else:\n",
    "                print(\"Product ID already exists\")\n",
    "        except ValueError:\n",
    "            print(\"Invalid input. Product ID must be a valid integer.\")\n",
    "            \n",
    "    name = input(\"Enter Product Name: \")\n",
    "    quantity = get_quantity(inventory)\n",
    "    \n",
    "    inventory.append((pid, name, quantity))\n",
    "    print(f\"{name} added to inventory.\")"
   ]
  },
  {
   "cell_type": "code",
   "execution_count": 47,
   "id": "69b290d6-2347-4477-b462-09ad9d9bd038",
   "metadata": {},
   "outputs": [
    {
     "name": "stdout",
     "output_type": "stream",
     "text": [
      "\n",
      "Current Inventory:\n",
      "ID: 101, Product: Apple iPhone, Quantity: 30\n",
      "ID: 102, Product: Samsung Galaxy, Quantity: 45\n",
      "ID: 103, Product: Google Pixel, Quantity: 25\n",
      "\n"
     ]
    },
    {
     "name": "stdin",
     "output_type": "stream",
     "text": [
      "Do you want to (1) Add a new product or (2) Restock or (3) Remove Quantity of an existing product? Enter 1 or 2 (or 'quit' to exit):  quit\n"
     ]
    }
   ],
   "source": [
    "while True:\n",
    "    display_inventory(inventory)\n",
    "    choice = input(\"Do you want to (1) Add a new product or (2) Restock or (3) Remove Quantity of an existing product? Enter 1, 2 or 3 (or 'quit' to exit): \").strip()\n",
    "    if choice == 'quit':\n",
    "        break\n",
    "    elif choice == '1':\n",
    "        add_new_product(inventory)\n",
    "    elif choice == '2':\n",
    "        inventory = restock_product(inventory)\n",
    "    elif choice == '3':\n",
    "        inventory = remove_product_quantity(inventory)\n",
    "    else:\n",
    "        print(\"Invalid option, please try again.\")"
   ]
  },
  {
   "cell_type": "markdown",
   "id": "1ccc0742-95f0-4a2b-80b4-eed23f921c1c",
   "metadata": {},
   "source": [
    "**Δ. Δημιουργήστε έναν κώδικα ώστε να αναζητήστε ένα προϊόν με βάση το ID ή το όνομα.**\n",
    "\n",
    "Για να δημιουργήσουμε μια λειτουργία αναζήτησης προϊόντος με βάση το ID ή το όνομα στο απόθεμα,\n",
    "μπορούμε να προσθέσουμε μια νέα συνάρτηση στο υπάρχον σύστημα διαχείρισης αποθεμάτων. Η\n",
    "παρακάτω συνάρτηση search_product() θα επιτρέπει στον χρήστη να εισάγει είτε ένα ID προϊόντος είτε\n",
    "ένα όνομα προϊόντος και θα επιστρέφει τις λεπτομέρειες του σχετικού προϊόντος αν βρεθεί στο απόθεμα.\n",
    "\n",
    "Για να λειτουργήσει σωστά ο κώδικας ενσωματώστε στην μεταβλητή choice του κώδικα 3.10 την\r\n",
    "δυνατότητα αναζήτηση προϊόντος. "
   ]
  },
  {
   "cell_type": "code",
   "execution_count": 65,
   "id": "4cb778f8-e298-4c19-ac12-b6628ee58dc5",
   "metadata": {},
   "outputs": [],
   "source": [
    "inventory = [\n",
    " (101, \"Apple iPhone\", 30),\n",
    " (102, \"Samsung Galaxy\", 45),\n",
    " (103, \"Google Pixel\", 25),\n",
    "]\n",
    "\n",
    "def display_inventory(inventory):\n",
    "    print(\"\\nCurrent Inventory:\")\n",
    "    for pid, name, quantity in inventory:\n",
    "        print(f\"ID: {pid}, Product: {name}, Quantity: {quantity}\")\n",
    "    print()  # Add an extra newline for spacing\n",
    "\n",
    "def search_product(inventory):\n",
    "    search_query = input(\"Enter Product ID or Name to search: \")\n",
    "    found_products = [item for item in inventory if str(search_query) in [str(item[0]), item[1]]]\n",
    "    if found_products:\n",
    "        for product in found_products:\n",
    "            print(f\"Found - ID: {product[0]}, Product: {product[1]}, Quantity: {product[2]}\")\n",
    "    else:\n",
    "        print(\"No products found matching the search criteria.\")\n",
    "    return inventory "
   ]
  },
  {
   "cell_type": "code",
   "execution_count": 66,
   "id": "9f0f97f1-84c9-4eab-baa5-7522dc72a199",
   "metadata": {},
   "outputs": [
    {
     "name": "stdout",
     "output_type": "stream",
     "text": [
      "\n",
      "Current Inventory:\n",
      "ID: 101, Product: Apple iPhone, Quantity: 30\n",
      "ID: 102, Product: Samsung Galaxy, Quantity: 45\n",
      "ID: 103, Product: Google Pixel, Quantity: 25\n",
      "\n"
     ]
    },
    {
     "name": "stdin",
     "output_type": "stream",
     "text": [
      "Do you want to (1) Add a new product or (2) Restock or (3) Remove Quantity of an existing product or (4) Search for an existing product ? Enter 1, 2, 3 or 4 (or 'quit' to exit):  4\n",
      "Enter Product ID or Name to search:  102\n"
     ]
    },
    {
     "name": "stdout",
     "output_type": "stream",
     "text": [
      "Found - ID: 102, Product: Samsung Galaxy, Quantity: 45\n",
      "\n",
      "Current Inventory:\n",
      "ID: 101, Product: Apple iPhone, Quantity: 30\n",
      "ID: 102, Product: Samsung Galaxy, Quantity: 45\n",
      "ID: 103, Product: Google Pixel, Quantity: 25\n",
      "\n"
     ]
    },
    {
     "name": "stdin",
     "output_type": "stream",
     "text": [
      "Do you want to (1) Add a new product or (2) Restock or (3) Remove Quantity of an existing product or (4) Search for an existing product ? Enter 1, 2, 3 or 4 (or 'quit' to exit):  104\n"
     ]
    },
    {
     "name": "stdout",
     "output_type": "stream",
     "text": [
      "Invalid option, please try again.\n",
      "\n",
      "Current Inventory:\n",
      "ID: 101, Product: Apple iPhone, Quantity: 30\n",
      "ID: 102, Product: Samsung Galaxy, Quantity: 45\n",
      "ID: 103, Product: Google Pixel, Quantity: 25\n",
      "\n"
     ]
    },
    {
     "name": "stdin",
     "output_type": "stream",
     "text": [
      "Do you want to (1) Add a new product or (2) Restock or (3) Remove Quantity of an existing product or (4) Search for an existing product ? Enter 1, 2, 3 or 4 (or 'quit' to exit):  quit\n"
     ]
    }
   ],
   "source": [
    "while True:\n",
    "    display_inventory(inventory)\n",
    "    choice = input(\"Do you want to (1) Add a new product or (2) Restock or (3) Remove Quantity of an existing product or (4) Search for an existing product ? Enter 1, 2, 3 or 4 (or 'quit' to exit): \").strip()\n",
    "    if choice == 'quit':\n",
    "        break\n",
    "    elif choice == '1':\n",
    "        add_new_product(inventory)  \n",
    "    elif choice == '2':\n",
    "        inventory = restock_product(inventory) \n",
    "    elif choice == '3':\n",
    "        inventory = remove_product_quantity(inventory)  \n",
    "    elif choice == '4':\n",
    "        inventory = search_product(inventory)\n",
    "    else:\n",
    "        print(\"Invalid option, please try again.\")"
   ]
  }
 ],
 "metadata": {
  "kernelspec": {
   "display_name": "Python 3 (ipykernel)",
   "language": "python",
   "name": "python3"
  },
  "language_info": {
   "codemirror_mode": {
    "name": "ipython",
    "version": 3
   },
   "file_extension": ".py",
   "mimetype": "text/x-python",
   "name": "python",
   "nbconvert_exporter": "python",
   "pygments_lexer": "ipython3",
   "version": "3.11.9"
  }
 },
 "nbformat": 4,
 "nbformat_minor": 5
}
