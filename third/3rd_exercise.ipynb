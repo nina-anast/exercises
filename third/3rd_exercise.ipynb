{
 "cells": [
  {
   "cell_type": "markdown",
   "id": "fa8f710c-e4f6-4a1b-9e34-158d06f99dcc",
   "metadata": {},
   "source": [
    "# 3η Εργασία Μαθήματος:\n",
    "\n",
    "**\" Εισαγωγή στον Προγραμματισμό ( Python ) \"**\n",
    "\n",
    "Αναστοπούλου Ευγενία - Συραϊνώ, nm20034\n"
   ]
  },
  {
   "cell_type": "markdown",
   "id": "867a06d5-af44-4730-a151-7da77f860e5b",
   "metadata": {},
   "source": [
    "## Άσκηση 1\n",
    "Ζητείται πρόγραμμα στην που να βρίσκει τον ελάχιστο, μέγιστο και την\r\n",
    "μέση τιμή μιας ακολουθίας μη αριθμών που εισάγονται από τον χρήστη.\r\n",
    "Πρώτα θα πρέπει να γίνεται αποθήκευση των αριθμών σε μια λίστα και\r\n",
    "μετά η εκτέλεση των ανωτέρων. Ζητείται από τον χρήστη να εισάγει τον\r\n",
    "αριθμό -999 για να δηλώσει το τέλος της καταχώρησης."
   ]
  },
  {
   "cell_type": "code",
   "execution_count": 7,
   "id": "8312c342-28f7-4294-a1af-6d8a2cfe2a4a",
   "metadata": {},
   "outputs": [
    {
     "name": "stdin",
     "output_type": "stream",
     "text": [
      "Enter a non-negative number (-999 to end):  34\n",
      "Enter a non-negative number (-999 to end):  71.845\n",
      "Enter a non-negative number (-999 to end):  40\n",
      "Enter a non-negative number (-999 to end):  91,7\n"
     ]
    },
    {
     "name": "stdout",
     "output_type": "stream",
     "text": [
      "Error: Please enter a valid number.\n"
     ]
    },
    {
     "name": "stdin",
     "output_type": "stream",
     "text": [
      "Enter a non-negative number (-999 to end):  ηι\n"
     ]
    },
    {
     "name": "stdout",
     "output_type": "stream",
     "text": [
      "Error: Please enter a valid number.\n"
     ]
    },
    {
     "name": "stdin",
     "output_type": "stream",
     "text": [
      "Enter a non-negative number (-999 to end):  -999\n"
     ]
    },
    {
     "name": "stdout",
     "output_type": "stream",
     "text": [
      "Minimum value: 34.0\n",
      "Maximum value: 71.845\n",
      "Average value: 48.62\n"
     ]
    }
   ],
   "source": [
    "numbers = []\n",
    "while True:\n",
    "    num = input(\"Enter a non-negative number (-999 to end): \")\n",
    "    if num == \"-999\":\n",
    "        break\n",
    "    try:               # Αν δωθεί αριθμός τον προσθέτει στο numbers\n",
    "        num = float(num)\n",
    "        if num < 0:\n",
    "            print(\"Error: number must be non-negative.\")\n",
    "            continue\n",
    "        numbers.append(num)\n",
    "    except ValueError: # Αν δεν δωθεί αριθμός ενημερώνει τον χρήστη\n",
    "        print(\"Error: Please enter a valid number.\")\n",
    "\n",
    "if not numbers:\n",
    "    print(\"No numbers entered.\")\n",
    "else:\n",
    "    minimum = min(numbers)\n",
    "    maximum = max(numbers)\n",
    "    average = sum(numbers) / len(numbers)\n",
    "    print(\"Minimum value:\", minimum)\n",
    "    print(\"Maximum value:\", maximum)\n",
    "    print(\"Average value:\", format(average, '.2f'))"
   ]
  },
  {
   "cell_type": "markdown",
   "id": "ae7278f6-cc2c-4c0f-bd73-4ee385e00ad2",
   "metadata": {},
   "source": [
    "Οι αλλαγές που πραγματοποιήθηκαν στο πρόγραμμα είναι για να αναγνωρίζει πότε ένα input είναι αριθμός ή όχι. Συγκεκριμένα οι εντολές:\n",
    "```python\n",
    "num = float(num)\n",
    "if num < 0:\n",
    "    print(\"Error: number must be non-negative.\")\n",
    "    continue\n",
    "numbers.append(num)\n",
    "```\n",
    "Μπήκαν σε ένα try με σκοπό το πρόγραμμα να μην τερματίζεται αν δεν είναι αποδεκτό το input. Στην περίπτωση που δεν ολοκληρωθούν οι εντολές στο try, ενημερώνουμε τον χρήστη εμφανίζοντας του το error: ```print(\"Error: Please enter a valid number.\")```"
   ]
  },
  {
   "cell_type": "markdown",
   "id": "c01911f8-c5c5-4a28-bbaf-aac8f591c943",
   "metadata": {},
   "source": [
    "## Άσκηση 2\n",
    "Ζητείται να γράψετε ένα πρόγραμμα που θα εμφανίζει έναν πίνακα που θα\n",
    "δείχνει τον πληθυσμό κάθε έτος μέχρι το 2022 μιας πόλης αν υποθέσουμε\n",
    "ότι το έτος 2015 ο πληθυσμός ήταν 300.000 και αυξάνεται με ρυθμό 3%\n",
    "ανά έτος."
   ]
  },
  {
   "cell_type": "code",
   "execution_count": 9,
   "id": "a70e3a23-1c43-4fd4-820a-d87c6f2c130e",
   "metadata": {},
   "outputs": [
    {
     "name": "stdout",
     "output_type": "stream",
     "text": [
      "Χρόνια     Πληθυσμός\n",
      "2015       300,000\n",
      "2016       309,000\n",
      "2017       318,270\n",
      "2018       327,818\n",
      "2019       337,653\n",
      "2020       347,782\n",
      "2021       358,216\n",
      "2022       368,962\n"
     ]
    }
   ],
   "source": [
    "pop = 300000       # Αρχικός πληθυσμός της πόλης\n",
    "growth_rate = 0.03 # Ρυθμός αύξησης του πληθυσμού\n",
    "# Εκτύπωση των ονομάτων των στηλών του πίνακα που θα παραχθεί\n",
    "print(\"{0:10} {1}\".format(\"Χρόνια\", \"Πληθυσμός\"))\n",
    "# Εκτύπωση του πίνακα με τον πληθυσμό ανά έτος μέχρι το 2022\n",
    "for year in range(2015, 2023):\n",
    "    print(\"{0:<10d} {1:,d}\".format(year, round(pop)))\n",
    "    # Υπολογισμός του νέου πληθυσμού για το επόμενο έτος\n",
    "    pop = pop*(1 + growth_rate) "
   ]
  },
  {
   "cell_type": "markdown",
   "id": "704f71f2-11cf-42c0-a1e3-99e6b883313b",
   "metadata": {},
   "source": [
    "## Άσκηση 3\n",
    "Γράψτε ένα πρόγραμμα που θα εισάγει σε μια λίστα τους αριθμούς 1, 3, 5,\n",
    "7, 9 και 11. Στη συνέχεια, τυπώστε το τρίτο στοιχείο της λίστας, αλλάξτε\n",
    "την τιμή του τελευταίου στοιχείου της λίστας σε 15. Προσθέστε στο τέλος\n",
    "της λίστας τον αριθμό 17. Τυπώστε το πλήθος των στοιχείων της λίστας.\n",
    "Ταξινομήστε τη λίστα, από τον μεγαλύτερο προς τον μικρότερο και\n",
    "τυπώστε την στην οθόνη."
   ]
  },
  {
   "cell_type": "code",
   "execution_count": 20,
   "id": "de60a6c8-8ecc-4732-9d40-234a408f49c3",
   "metadata": {},
   "outputs": [
    {
     "name": "stdout",
     "output_type": "stream",
     "text": [
      "Το τρίτο στοιχείο της λίστας είναι:  5\n",
      "Το πλήθος των στοιχείων της λίστας είναι:  6\n",
      "Η ταξινομημένη λίστα είναι:  [17, 15, 7, 5, 3, 1]\n"
     ]
    }
   ],
   "source": [
    "my_list = list(range(1, 11, 2)) # Δημιουργία της λίστας\n",
    "# Εκτύπωση του τρίτου στοιχείου της λίστας\n",
    "print(\"Το τρίτο στοιχείο της λίστας είναι: \",my_list[2])\n",
    "my_list[-1] = 15                # Αλλαγή της τιμής του τελευταίου στοιχείου της λίστας σε 1\n",
    "my_list.append(17)              # Προσθήκη του αριθμού 17 στο τέλος της λίστας  \n",
    "# Εκτύπωση του πλήθους των στοιχείων της λίστας\n",
    "print(\"Το πλήθος των στοιχείων της λίστας είναι: \",len(my_list))\n",
    "my_list.sort(reverse=True)      # Ταξινόμηση της λίστας από το μεγαλύτερο στο μικρότερο\n",
    "# Εκτύπωση της ταξινομημένης λίστας\n",
    "print(\"Η ταξινομημένη λίστα είναι: \",my_list)"
   ]
  },
  {
   "cell_type": "markdown",
   "id": "50bb270c-1364-4144-abeb-b8daffdc98b5",
   "metadata": {},
   "source": [
    "Η εντολή ```list(range(1, 11, 2))``` αυτό που κάνει είναι δημιουργεί μία λίστα με όλους τους αριθμούς από το 1 εως το 12 με βήμα 2. Άρα τους περιττούς αριθμούς [1, 3, 5, 7, 9, 11] που θέλαμε για το πρόγραμμα."
   ]
  },
  {
   "cell_type": "markdown",
   "id": "a984525f-9a74-4b88-9a34-d51968a8fe73",
   "metadata": {},
   "source": [
    "## Άσκηση 4\n",
    "Να γραφτεί ένα πρόγραμμα που θα διαβάζει τις αριθμητικές τιμές των\r\n",
    "στοιχείων μιας λίστας 5 x 4 και θα εμφανίζει τα στοιχεία των στηλών με\r\n",
    "άρτιο δείκτη (δηλαδή τις στήλες με δείκτη 0, και 2)."
   ]
  },
  {
   "cell_type": "code",
   "execution_count": 25,
   "id": "022621c9-0cbf-437b-a068-33552e4f44a2",
   "metadata": {},
   "outputs": [
    {
     "name": "stdin",
     "output_type": "stream",
     "text": [
      "Εισάγετε τον αριθμό για την θέση [0][0]:  1\n",
      "Εισάγετε τον αριθμό για την θέση [0][1]:  2\n",
      "Εισάγετε τον αριθμό για την θέση [0][2]:  3\n",
      "Εισάγετε τον αριθμό για την θέση [0][3]:  4\n",
      "Εισάγετε τον αριθμό για την θέση [1][0]:  5\n",
      "Εισάγετε τον αριθμό για την θέση [1][1]:  6\n",
      "Εισάγετε τον αριθμό για την θέση [1][2]:  7\n",
      "Εισάγετε τον αριθμό για την θέση [1][3]:  8\n",
      "Εισάγετε τον αριθμό για την θέση [2][0]:  9\n",
      "Εισάγετε τον αριθμό για την θέση [2][1]:  0\n",
      "Εισάγετε τον αριθμό για την θέση [2][2]:  1\n",
      "Εισάγετε τον αριθμό για την θέση [2][3]:  2\n",
      "Εισάγετε τον αριθμό για την θέση [3][0]:  3\n",
      "Εισάγετε τον αριθμό για την θέση [3][1]:  4\n",
      "Εισάγετε τον αριθμό για την θέση [3][2]:  5\n",
      "Εισάγετε τον αριθμό για την θέση [3][3]:  6\n",
      "Εισάγετε τον αριθμό για την θέση [4][0]:  7\n",
      "Εισάγετε τον αριθμό για την θέση [4][1]:  8\n",
      "Εισάγετε τον αριθμό για την θέση [4][2]:  9\n",
      "Εισάγετε τον αριθμό για την θέση [4][3]:  0\n"
     ]
    },
    {
     "name": "stdout",
     "output_type": "stream",
     "text": [
      "Στοιχεία στηλών με άρτιο δείκτη: \n",
      "[1, 5, 9, 3, 7]\n",
      "[3, 7, 1, 5, 9]\n"
     ]
    }
   ],
   "source": [
    "# Δημιουργία μιας λίστας 5 x 4\n",
    "my_list = []\n",
    "for i in range(5):\n",
    "    row = []\n",
    "    for j in range(4):\n",
    "        num = int(input(f\"Εισάγετε τον αριθμό για την θέση [{i}][{j}]: \"))\n",
    "        row.append(num)\n",
    "    my_list.append(row)\n",
    "\n",
    "# Εμφάνιση των στοιχείων των στηλών με άρτιο δείκτη\n",
    "print(\"Στοιχεία στηλών με άρτιο δείκτη: \")\n",
    "for j in range(0,4,2):\n",
    "    col = []\n",
    "    for i in range(5):\n",
    "        col.append(my_list[i][j])\n",
    "    print(col)"
   ]
  },
  {
   "cell_type": "markdown",
   "id": "af19f190-ea54-488b-9a23-3e8229895caa",
   "metadata": {},
   "source": [
    "Αν ήθελα τα δεδομένα να δίνονται από ένα αρχείο, έστω το **input.txt**"
   ]
  },
  {
   "cell_type": "code",
   "execution_count": 44,
   "id": "f74bf717-b348-4156-bb30-1299f94a3957",
   "metadata": {},
   "outputs": [
    {
     "name": "stdout",
     "output_type": "stream",
     "text": [
      "Στοιχεία στηλών με άρτιο δείκτη: \n",
      "[1, 5, 9, 13, 17]\n",
      "[3, 7, 11, 15, 19]\n"
     ]
    }
   ],
   "source": [
    "# Διάβασμα της εισόδου από το αρχείο input.txt \n",
    "with open(\"input.txt\", \"r\") as file:\n",
    "    lines = file.readlines()\n",
    "\n",
    "# Δημιουργία μιας λίστας 5 x 4 από τα δεδομένα του αρχείου\n",
    "my_list = []\n",
    "for line in lines:\n",
    "    row = [int(x) for x in line.split()]  # Διαχωρίζουμε τα δεδομένα της γραμμής και τα μετατρέπουμε σε ακέραιους αριθμούς\n",
    "    my_list.append(row)\n",
    "\n",
    "# Εμφάνιση των στοιχείων των στηλών με άρτιο δείκτη\n",
    "print(\"Στοιχεία στηλών με άρτιο δείκτη: \")\n",
    "for j in range(0, 4, 2):\n",
    "    col = []\n",
    "    for i in range(5):\n",
    "        col.append(my_list[i][j])\n",
    "    print(col)"
   ]
  },
  {
   "cell_type": "markdown",
   "id": "23261f04-ad92-415e-bc7e-bb885a104cbf",
   "metadata": {},
   "source": [
    "Τέλος, Αν ήθελα το παραγόμενο αποτέλεσμα να γραφτεί και αυτό σε ένα αρχείο κειμένου (**output.txt**)\n",
    "ακολουθώ τα παρακάτω."
   ]
  },
  {
   "cell_type": "code",
   "execution_count": 49,
   "id": "5bef68de-a20a-47aa-8ba2-a81948406487",
   "metadata": {},
   "outputs": [],
   "source": [
    "# Read input data from file\n",
    "with open(\"input.txt\", \"r\") as f:\n",
    "    lines = f.readlines()\n",
    "\n",
    "# Create list\n",
    "my_list = []\n",
    "for line in lines:\n",
    "    row = [int(num) for num in line.split()]\n",
    "    my_list.append(row)\n",
    "\n",
    "# Write output to file\n",
    "with open(\"output.txt\", \"w\") as f:\n",
    "    # Write column headers\n",
    "    f.write(\"Στοιχεία στηλών με άρτιο δείκτη: \\n\")\n",
    "    # Write column data\n",
    "    for j in range(0, 4, 2):\n",
    "        col = []\n",
    "        for i in range(5):\n",
    "            col.append(my_list[i][j])\n",
    "        f.write(str(col) + \"\\n\")"
   ]
  },
  {
   "cell_type": "code",
   "execution_count": null,
   "id": "511ce2b2-aec0-4cd9-950e-75be786a7f06",
   "metadata": {},
   "outputs": [],
   "source": []
  }
 ],
 "metadata": {
  "kernelspec": {
   "display_name": "Python 3 (ipykernel)",
   "language": "python",
   "name": "python3"
  },
  "language_info": {
   "codemirror_mode": {
    "name": "ipython",
    "version": 3
   },
   "file_extension": ".py",
   "mimetype": "text/x-python",
   "name": "python",
   "nbconvert_exporter": "python",
   "pygments_lexer": "ipython3",
   "version": "3.11.9"
  }
 },
 "nbformat": 4,
 "nbformat_minor": 5
}
